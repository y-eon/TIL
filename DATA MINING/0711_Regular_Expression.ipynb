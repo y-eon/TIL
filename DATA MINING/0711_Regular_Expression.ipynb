{
  "nbformat": 4,
  "nbformat_minor": 0,
  "metadata": {
    "colab": {
      "name": "0711_Regular Expression.ipynb",
      "provenance": [],
      "collapsed_sections": [],
      "authorship_tag": "ABX9TyMY/i5NXEaDfxysfBS0RHYD",
      "include_colab_link": true
    },
    "kernelspec": {
      "name": "python3",
      "display_name": "Python 3"
    }
  },
  "cells": [
    {
      "cell_type": "markdown",
      "metadata": {
        "id": "view-in-github",
        "colab_type": "text"
      },
      "source": [
        "<a href=\"https://colab.research.google.com/github/y-eon/TIL/blob/master/0711_Regular_Expression.ipynb\" target=\"_parent\"><img src=\"https://colab.research.google.com/assets/colab-badge.svg\" alt=\"Open In Colab\"/></a>"
      ]
    },
    {
      "cell_type": "markdown",
      "metadata": {
        "id": "KRQ0HwgyIQ5v",
        "colab_type": "text"
      },
      "source": [
        "# 정규표현식 연습"
      ]
    },
    {
      "cell_type": "markdown",
      "metadata": {
        "id": "5QhvnXb9L0-G",
        "colab_type": "text"
      },
      "source": [
        "- . : 한 개의 임의의 문자\n",
        "- ? : 앞문자가 0개 또는 1개\n",
        "- \\* : 앞문자가 0개 이상\n",
        "- \\+ : 앞문자가 1개 이상\n",
        "- ^ : 뒤의 문자로 문자열이 시작\n",
        "- $ : 앞의 문자로 문자열이 끝남"
      ]
    },
    {
      "cell_type": "markdown",
      "metadata": {
        "id": "GiOVShs6MR9T",
        "colab_type": "text"
      },
      "source": [
        "- \\d : 한 개의 숫자 (=[0-9])\n",
        "- \\D : 한 개의 숫자가 아닌 문자 (=[^0-9])\n",
        "- \\w : 한 개의 알파벳 문자 혹은 숫자 (=[a-zA-Z0-9])\n",
        "- \\W : 한 개의 알파벳 문자 혹은 숫자가 아닌 문자 (=[^a-zA-Z0-9])\n",
        "- \\s : 공백 문자\n",
        "- \\S : 공백이 아닌 문자"
      ]
    },
    {
      "cell_type": "markdown",
      "metadata": {
        "id": "RKk1264kMzHK",
        "colab_type": "text"
      },
      "source": [
        "- \\t : 탭\n",
        "- \\r : 캐리지 리턴\n",
        "- \\n : 개행\n",
        "- \\x : 16진수\n",
        "- \\b : 단어구분자"
      ]
    },
    {
      "cell_type": "markdown",
      "metadata": {
        "id": "EKEMSZytInS-",
        "colab_type": "text"
      },
      "source": [
        "#### re.match()\n",
        "- 문자열 처음부터 매치 여부 조사\n"
      ]
    },
    {
      "cell_type": "code",
      "metadata": {
        "id": "SNd6rDhjGHHB",
        "colab_type": "code",
        "colab": {
          "base_uri": "https://localhost:8080/",
          "height": 35
        },
        "outputId": "974e8ab6-a50e-4a29-d812-0062768ef0f9"
      },
      "source": [
        "import re\n",
        "\n",
        "text = 'I like orange! I love orange!'\n",
        "result = re.match(\"orange\",text)\n",
        "print(result)"
      ],
      "execution_count": null,
      "outputs": [
        {
          "output_type": "stream",
          "text": [
            "None\n"
          ],
          "name": "stdout"
        }
      ]
    },
    {
      "cell_type": "code",
      "metadata": {
        "id": "eM_rTpzJHumN",
        "colab_type": "code",
        "colab": {
          "base_uri": "https://localhost:8080/",
          "height": 35
        },
        "outputId": "422688d7-f3e1-4713-8416-391229548465"
      },
      "source": [
        "text = 'orange! I love orange!'\n",
        "result = re.match(\"orange\",text)\n",
        "print(result)"
      ],
      "execution_count": null,
      "outputs": [
        {
          "output_type": "stream",
          "text": [
            "<_sre.SRE_Match object; span=(0, 6), match='orange'>\n"
          ],
          "name": "stdout"
        }
      ]
    },
    {
      "cell_type": "code",
      "metadata": {
        "id": "Mg4ZkRlpIPsC",
        "colab_type": "code",
        "colab": {
          "base_uri": "https://localhost:8080/",
          "height": 88
        },
        "outputId": "7bad0416-d883-407d-f824-990e48237564"
      },
      "source": [
        "print(result.group())\n",
        "print(result.start())\n",
        "print(result.end())\n",
        "print(result.span())"
      ],
      "execution_count": null,
      "outputs": [
        {
          "output_type": "stream",
          "text": [
            "orange\n",
            "0\n",
            "6\n",
            "(0, 6)\n"
          ],
          "name": "stdout"
        }
      ]
    },
    {
      "cell_type": "markdown",
      "metadata": {
        "id": "ypUai0aBIP2F",
        "colab_type": "text"
      },
      "source": [
        "#### re.search()\n",
        "- 문자열 전체를 조사. 처음 검색된 최초 문자열에 대한 Match 객체 리턴"
      ]
    },
    {
      "cell_type": "code",
      "metadata": {
        "id": "LPKy46TNIP8K",
        "colab_type": "code",
        "colab": {
          "base_uri": "https://localhost:8080/",
          "height": 35
        },
        "outputId": "0d4eefbc-e2df-4184-8e6e-9778bd016252"
      },
      "source": [
        "import re\n",
        "\n",
        "text = \"I like orange! I love orange!\"\n",
        "result = re.search(\"orange\",text)\n",
        "print(result)"
      ],
      "execution_count": null,
      "outputs": [
        {
          "output_type": "stream",
          "text": [
            "<_sre.SRE_Match object; span=(7, 13), match='orange'>\n"
          ],
          "name": "stdout"
        }
      ]
    },
    {
      "cell_type": "code",
      "metadata": {
        "id": "kuenRsbsIQBz",
        "colab_type": "code",
        "colab": {
          "base_uri": "https://localhost:8080/",
          "height": 88
        },
        "outputId": "11c8f730-f1cf-4951-d748-9a496775f8d2"
      },
      "source": [
        "print(result.group())\n",
        "print(result.start())\n",
        "print(result.end())\n",
        "print(result.span())"
      ],
      "execution_count": null,
      "outputs": [
        {
          "output_type": "stream",
          "text": [
            "orange\n",
            "7\n",
            "13\n",
            "(7, 13)\n"
          ],
          "name": "stdout"
        }
      ]
    },
    {
      "cell_type": "markdown",
      "metadata": {
        "id": "SkAmWjsbJR6T",
        "colab_type": "text"
      },
      "source": [
        "#### re.findall()\n",
        "- 매치되는 모든 문자열 리스트로 리턴"
      ]
    },
    {
      "cell_type": "code",
      "metadata": {
        "id": "cytGgKsCIQHp",
        "colab_type": "code",
        "colab": {
          "base_uri": "https://localhost:8080/",
          "height": 35
        },
        "outputId": "2c24f5b0-51b7-4736-a695-f3f717f0e83d"
      },
      "source": [
        "import re\n",
        "\n",
        "text = \"I like orange! I love orange!\"\n",
        "result = re.findall(\"orange\",text)\n",
        "print(result)"
      ],
      "execution_count": null,
      "outputs": [
        {
          "output_type": "stream",
          "text": [
            "['orange', 'orange']\n"
          ],
          "name": "stdout"
        }
      ]
    },
    {
      "cell_type": "markdown",
      "metadata": {
        "id": "WGgGTDGlJny-",
        "colab_type": "text"
      },
      "source": [
        "#### re.finditer()\n",
        "- 매치되는 모든 문자열에 대한 Match 객체 리턴"
      ]
    },
    {
      "cell_type": "code",
      "metadata": {
        "id": "hffQj-DgJnqP",
        "colab_type": "code",
        "colab": {
          "base_uri": "https://localhost:8080/",
          "height": 52
        },
        "outputId": "830472a5-1189-4ab3-b8fe-cd9b6e971fb2"
      },
      "source": [
        "import re\n",
        "\n",
        "text = \"I like orange! I love orange!\"\n",
        "result = re.finditer(\"orange\",text)\n",
        "for each in result:\n",
        "    print(each)"
      ],
      "execution_count": null,
      "outputs": [
        {
          "output_type": "stream",
          "text": [
            "<_sre.SRE_Match object; span=(7, 13), match='orange'>\n",
            "<_sre.SRE_Match object; span=(22, 28), match='orange'>\n"
          ],
          "name": "stdout"
        }
      ]
    },
    {
      "cell_type": "markdown",
      "metadata": {
        "id": "F5qYS14oJnjF",
        "colab_type": "text"
      },
      "source": [
        "#### re.split()\n",
        "- 입력된 정규표현식을 기준으로 문자열들을 분리하여 리스트로 리턴"
      ]
    },
    {
      "cell_type": "code",
      "metadata": {
        "id": "8JrH6VLBKEq7",
        "colab_type": "code",
        "colab": {
          "base_uri": "https://localhost:8080/",
          "height": 35
        },
        "outputId": "d2af92d3-717e-42e2-a054-15b2518c7304"
      },
      "source": [
        "import re\n",
        "\n",
        "text = \"apple,orange!banana pineapple\"\n",
        "result = re.split(\"[,! ]\",text) # , ! ' ' 기준으로 분리됨\n",
        "print(result)"
      ],
      "execution_count": null,
      "outputs": [
        {
          "output_type": "stream",
          "text": [
            "['apple', 'orange', 'banana', 'pineapple']\n"
          ],
          "name": "stdout"
        }
      ]
    },
    {
      "cell_type": "markdown",
      "metadata": {
        "id": "QSo81htWKEj-",
        "colab_type": "text"
      },
      "source": [
        "#### 탐욕적 혹은 게으른"
      ]
    },
    {
      "cell_type": "code",
      "metadata": {
        "id": "lEVS_YF5KEbG",
        "colab_type": "code",
        "colab": {
          "base_uri": "https://localhost:8080/",
          "height": 52
        },
        "outputId": "17384f10-4b9a-471a-e39a-7474c745af02"
      },
      "source": [
        "import re\n",
        "\n",
        "text =  \"<html><head><title>Title</title>\"\n",
        "print(re.match('<.*>',text).group())\n",
        "\n",
        "print(re.match('<.*?>',text).group())"
      ],
      "execution_count": null,
      "outputs": [
        {
          "output_type": "stream",
          "text": [
            "<html><head><title>Title</title>\n",
            "<html>\n"
          ],
          "name": "stdout"
        }
      ]
    },
    {
      "cell_type": "markdown",
      "metadata": {
        "id": "VXHSJn1lKES4",
        "colab_type": "text"
      },
      "source": [
        "#### 역참조(backreference)\n",
        "- 역으로 참조 - 하위표현식을 참조\n",
        "- 방법 : 하위표현식을 숫자로 참조"
      ]
    },
    {
      "cell_type": "code",
      "metadata": {
        "id": "_aj0_IRZKEMe",
        "colab_type": "code",
        "colab": {
          "base_uri": "https://localhost:8080/",
          "height": 35
        },
        "outputId": "d221c505-be78-47eb-f19c-3662c15c613f"
      },
      "source": [
        "import re\n",
        "\n",
        "text = 'Paris in the the spriing'\n",
        "result =  re.search('(\\b\\w+)\\s+\\1', text)\n",
        "\n",
        "print(result)"
      ],
      "execution_count": null,
      "outputs": [
        {
          "output_type": "stream",
          "text": [
            "None\n"
          ],
          "name": "stdout"
        }
      ]
    },
    {
      "cell_type": "markdown",
      "metadata": {
        "id": "6DyFoKHFKEFb",
        "colab_type": "text"
      },
      "source": [
        "#### re.sub()\n",
        "- 문자열에서 정규 표현식과 일치하는 부분에 대해서 다른 문자열로 대체"
      ]
    },
    {
      "cell_type": "code",
      "metadata": {
        "id": "54VSMJFBKD-8",
        "colab_type": "code",
        "colab": {
          "base_uri": "https://localhost:8080/",
          "height": 35
        },
        "outputId": "f8751a18-fc71-4a88-ebcb-4c0f4b40307e"
      },
      "source": [
        "import re\n",
        "\n",
        "text = \"apple, orange! banana pineapple\"\n",
        "result = re.sub('[^a-zA-Z]',\" \",text)\n",
        "print(result)"
      ],
      "execution_count": null,
      "outputs": [
        {
          "output_type": "stream",
          "text": [
            "apple  orange  banana pineapple\n"
          ],
          "name": "stdout"
        }
      ]
    },
    {
      "cell_type": "code",
      "metadata": {
        "id": "0G5cYoocIQQP",
        "colab_type": "code",
        "colab": {
          "base_uri": "https://localhost:8080/",
          "height": 35
        },
        "outputId": "a7d80c7d-ca40-43de-a065-f59bcfe57731"
      },
      "source": [
        "text = \"park 010-1234-1234\"\n",
        "result = re.sub(\"(\\w+)\\s+((\\d+)[-]\\d+[-]\\d+)\",\"\\g<2> \\g<1>\",text)\n",
        "print(result)"
      ],
      "execution_count": null,
      "outputs": [
        {
          "output_type": "stream",
          "text": [
            "010-1234-1234 park\n"
          ],
          "name": "stdout"
        }
      ]
    },
    {
      "cell_type": "markdown",
      "metadata": {
        "id": "c1270j9tD_DG",
        "colab_type": "text"
      },
      "source": [
        "## 실습 01\n",
        "- 정상적인 이메일만 추출해주세요"
      ]
    },
    {
      "cell_type": "code",
      "metadata": {
        "id": "sw7BnncUQTKg",
        "colab_type": "code",
        "colab": {
          "base_uri": "https://localhost:8080/",
          "height": 35
        },
        "outputId": "278a1e12-7576-485e-ae3c-9d644f11688d"
      },
      "source": [
        "import re\n",
        "text = '''jkilee@gmail.com\n",
        "kttredef@naver.com\n",
        "akdef!aa.com\n",
        "adekik@best.kr\n",
        "abkereff@aacde\n",
        "adefgree@korea.co.kr'''\n",
        "\n",
        "result = re.findall('(\\S+@\\S+\\.\\S+[\\.\\S+]*)',text)\n",
        "print(result)"
      ],
      "execution_count": null,
      "outputs": [
        {
          "output_type": "stream",
          "text": [
            "['jkilee@gmail.com', 'kttredef@naver.com', 'adekik@best.kr', 'adefgree@korea.co.kr']\n"
          ],
          "name": "stdout"
        }
      ]
    },
    {
      "cell_type": "markdown",
      "metadata": {
        "id": "a0KsNqoqUNsn",
        "colab_type": "text"
      },
      "source": [
        "## 실습 02\n",
        "- 텍스트중에 <내용> 괄호로 묶여진 텍스트를 괄호\n",
        "포함 모두 제거해주세요"
      ]
    },
    {
      "cell_type": "code",
      "metadata": {
        "id": "PPtKJLjqUu1Y",
        "colab_type": "code",
        "colab": {
          "base_uri": "https://localhost:8080/",
          "height": 35
        },
        "outputId": "cdf62789-bc53-4d51-aab5-f2430c0ef257"
      },
      "source": [
        "text = '안녕하세요 저는 <em>홍길동</em> 입니다. 나이는 24살 세계 최고의 <a href=\"aa.aa.com\">데이터 분석가</a>가 되고싶습니다'\n",
        "\n",
        "result = re.sub(\"\\<.*?\\>\",\"\",text)\n",
        "result"
      ],
      "execution_count": null,
      "outputs": [
        {
          "output_type": "execute_result",
          "data": {
            "application/vnd.google.colaboratory.intrinsic": {
              "type": "string"
            },
            "text/plain": [
              "'안녕하세요 저는 홍길동 입니다. 나이는 24살 세계 최고의 데이터 분석가가 되고싶습니다'"
            ]
          },
          "metadata": {
            "tags": []
          },
          "execution_count": 54
        }
      ]
    },
    {
      "cell_type": "markdown",
      "metadata": {
        "id": "F48_FNkIUx4W",
        "colab_type": "text"
      },
      "source": [
        "## 실습 03\n",
        "1. 정규표현식을 이용 \\<span>내용\\</span> 을 각각 추출\n",
        "2. 추출된 항목에서 \\<span>과 \\</span> 태그를 모두제거\n",
        "3. 각각 총 3개의 항목을 리스트에 넣기\n"
      ]
    },
    {
      "cell_type": "code",
      "metadata": {
        "id": "QLRS7zPlV1xA",
        "colab_type": "code",
        "colab": {
          "base_uri": "https://localhost:8080/",
          "height": 52
        },
        "outputId": "7e991125-630f-4233-bd1a-012f44a68f20"
      },
      "source": [
        "text = '''<p>\n",
        "<span>네이버가 뉴스 서비스에 인공지능(AI)을 도입해 페이지 뷰(PV)를 늘리고 이용자를 끌어 모으고 있다.</span>\n",
        "<span>네이버는 5일 오전 서울 강남구 그랜드 인터컨티넨털 호텔에서 AI 콜로키움 2019를 열고 이 같은 AI 성과와 전략을 소개했다.</span>\n",
        "<span>이날 기조연설에서 김광현 네이버 서치앤클로바 리더는 \"AI 뉴스 추천 시스템인 에어스(AiRS)를 도입하면서 뉴스 소비량이 확대되고 있다\" 고 말했다.</span>\n",
        "</p>'''\n",
        "text"
      ],
      "execution_count": null,
      "outputs": [
        {
          "output_type": "execute_result",
          "data": {
            "application/vnd.google.colaboratory.intrinsic": {
              "type": "string"
            },
            "text/plain": [
              "'<p>\\n<span>네이버가 뉴스 서비스에 인공지능(AI)을 도입해 페이지 뷰(PV)를 늘리고 이용자를 끌어 모으고 있다.</span>\\n<span>네이버는 5일 오전 서울 강남구 그랜드 인터컨티넨털 호텔에서 AI 콜로키움 2019를 열고 이 같은 AI 성과와 전략을 소개했다.</span>\\n<span>이날 기조연설에서 김광현 네이버 서치앤클로바 리더는 \"AI 뉴스 추천 시스템인 에어스(AiRS)를 도입하면서 뉴스 소비량이 확대되고 있다\" 고 말했다.</span>\\n</p>'"
            ]
          },
          "metadata": {
            "tags": []
          },
          "execution_count": 158
        }
      ]
    },
    {
      "cell_type": "code",
      "metadata": {
        "id": "GezoR8OEc-J9",
        "colab_type": "code",
        "colab": {
          "base_uri": "https://localhost:8080/",
          "height": 70
        },
        "outputId": "ebca9c4d-6581-4c66-c238-303ea8154182"
      },
      "source": [
        "result = re.findall('<span>(.+?)</span>',text)\n",
        "result"
      ],
      "execution_count": null,
      "outputs": [
        {
          "output_type": "execute_result",
          "data": {
            "text/plain": [
              "['네이버가 뉴스 서비스에 인공지능(AI)을 도입해 페이지 뷰(PV)를 늘리고 이용자를 끌어 모으고 있다.',\n",
              " '네이버는 5일 오전 서울 강남구 그랜드 인터컨티넨털 호텔에서 AI 콜로키움 2019를 열고 이 같은 AI 성과와 전략을 소개했다.',\n",
              " '이날 기조연설에서 김광현 네이버 서치앤클로바 리더는 \"AI 뉴스 추천 시스템인 에어스(AiRS)를 도입하면서 뉴스 소비량이 확대되고 있다\" 고 말했다.']"
            ]
          },
          "metadata": {
            "tags": []
          },
          "execution_count": 122
        }
      ]
    }
  ]
}