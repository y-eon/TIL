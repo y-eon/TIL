{
 "cells": [
  {
   "cell_type": "markdown",
   "metadata": {},
   "source": [
    "### K번째 약수"
   ]
  },
  {
   "cell_type": "code",
   "execution_count": 1,
   "metadata": {},
   "outputs": [
    {
     "name": "stdout",
     "output_type": "stream",
     "text": [
      "6 3\n",
      "3\n"
     ]
    }
   ],
   "source": [
    "import sys\n",
    "sys.stdin = open('input.txt','rt')\n",
    "n, k = map(int,input().split())\n",
    "cnt = 0\n",
    "for i in range(1,n+1):\n",
    "    if n%i == 0:\n",
    "        cnt += 1\n",
    "    if cnt == k:\n",
    "        print(i)\n",
    "        break\n",
    "else:\n",
    "    print(-1)"
   ]
  },
  {
   "cell_type": "markdown",
   "metadata": {},
   "source": [
    "### K번째 수"
   ]
  },
  {
   "cell_type": "code",
   "execution_count": null,
   "metadata": {},
   "outputs": [],
   "source": [
    "import sys\n",
    "sys.stdin = open('input.txt','rt')\n",
    "T = int(input())\n",
    "for t in range(T):\n",
    "    n, s, e, k = map(int, input().split())\n",
    "    a = list(map(int, input().split()))\n",
    "    a = a[s-1:e]\n",
    "    a.sort()\n",
    "    print(\"#%d %d\" %(t+1,a[k-1]))"
   ]
  },
  {
   "cell_type": "markdown",
   "metadata": {},
   "source": [
    "### K번째 큰 수"
   ]
  },
  {
   "cell_type": "code",
   "execution_count": null,
   "metadata": {},
   "outputs": [],
   "source": [
    "N, K = map(int,input().split())\n",
    "L = list(map(int,input().split()))\n",
    "M = []\n",
    "for i in range(N):\n",
    "    for j in range(i+1,N):\n",
    "        for k in range(j+1,N):\n",
    "           M.append(L[i] + L[j] + L[k])\n",
    "M.sort(reverse=True)\n",
    "M[K-1]\n",
    "# 같은 수일 경우 고려X"
   ]
  },
  {
   "cell_type": "markdown",
   "metadata": {},
   "source": [
    "### 대표값"
   ]
  },
  {
   "cell_type": "code",
   "execution_count": null,
   "metadata": {},
   "outputs": [],
   "source": [
    "# N = map(int,input())\n",
    "# score = list(map(int,input().split()))\n",
    "# mean = score.mean()\n",
    "# cnt = 0\n",
    "# for i in range(N):\n",
    "    "
   ]
  }
 ],
 "metadata": {
  "kernelspec": {
   "display_name": "Python 3",
   "language": "python",
   "name": "python3"
  },
  "language_info": {
   "codemirror_mode": {
    "name": "ipython",
    "version": 3
   },
   "file_extension": ".py",
   "mimetype": "text/x-python",
   "name": "python",
   "nbconvert_exporter": "python",
   "pygments_lexer": "ipython3",
   "version": "3.7.7"
  }
 },
 "nbformat": 4,
 "nbformat_minor": 4
}
